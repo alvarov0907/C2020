{
  "nbformat": 4,
  "nbformat_minor": 0,
  "metadata": {
    "colab": {
      "name": "data_COVID.ipynb",
      "provenance": [],
      "toc_visible": true,
      "authorship_tag": "ABX9TyP+Ca/K7OgkWgmZ7geCE9rt",
      "include_colab_link": true
    },
    "kernelspec": {
      "name": "python3",
      "display_name": "Python 3"
    },
    "language_info": {
      "name": "python"
    }
  },
  "cells": [
    {
      "cell_type": "markdown",
      "metadata": {
        "id": "view-in-github",
        "colab_type": "text"
      },
      "source": [
        "<a href=\"https://colab.research.google.com/github/alvarov0907/C2020/blob/gh-pages/data_COVID.ipynb\" target=\"_parent\"><img src=\"https://colab.research.google.com/assets/colab-badge.svg\" alt=\"Open In Colab\"/></a>"
      ]
    },
    {
      "cell_type": "code",
      "metadata": {
        "id": "iRODjBZoplI2"
      },
      "source": [
        "import pandas as pd\n",
        "from google.colab import files"
      ],
      "execution_count": 44,
      "outputs": []
    },
    {
      "cell_type": "code",
      "metadata": {
        "id": "caaBNXbKqQxR"
      },
      "source": [
        "# Importar dataset con info COVID Argentina\n",
        "df = pd.read_csv('https://raw.githubusercontent.com/fermasia/infovis/gh-pages/final_prov.csv')\n",
        "# Importar Metadata de Provincias\n",
        "provincias = pd.read_csv('https://infra.datos.gob.ar/catalog/modernizacion/dataset/7/distribution/7.7/download/provincias.csv')"
      ],
      "execution_count": 45,
      "outputs": []
    },
    {
      "cell_type": "markdown",
      "metadata": {
        "id": "TnVtSHjDzoH5"
      },
      "source": [
        "vacunas aplicadas por mes y por marca"
      ]
    },
    {
      "cell_type": "code",
      "metadata": {
        "id": "Ag4OVkIpqR8f"
      },
      "source": [
        "# Prepación inicial de información para graficar\n",
        "df['mes'] = pd.to_datetime(df.fecha).dt.strftime('%Y-%m') #Agregar mes-año al dataset\n"
      ],
      "execution_count": 46,
      "outputs": []
    },
    {
      "cell_type": "code",
      "metadata": {
        "colab": {
          "base_uri": "https://localhost:8080/",
          "height": 351
        },
        "id": "jsO_1p9tqvhF",
        "outputId": "e5a041fe-07f9-4b55-e5c0-5b253ec109df"
      },
      "source": [
        "mes_vacunas = df.groupby(['mes'])['AstraZeneca','COVISHIELD','Sinopharm','Sputnik'].sum().reset_index()\n",
        "mes_vacunas = mes_vacunas[(mes_vacunas['AstraZeneca'] > 0) | (mes_vacunas['COVISHIELD'] > 0) | (mes_vacunas['Sinopharm'] > 0) | (mes_vacunas['Sputnik'] > 0)] #filtrar fecha desde la 1er \n",
        "mes_vacunas"
      ],
      "execution_count": 47,
      "outputs": [
        {
          "output_type": "stream",
          "text": [
            "/usr/local/lib/python3.7/dist-packages/ipykernel_launcher.py:1: FutureWarning: Indexing with multiple keys (implicitly converted to a tuple of keys) will be deprecated, use a list instead.\n",
            "  \"\"\"Entry point for launching an IPython kernel.\n"
          ],
          "name": "stderr"
        },
        {
          "output_type": "execute_result",
          "data": {
            "text/html": [
              "<div>\n",
              "<style scoped>\n",
              "    .dataframe tbody tr th:only-of-type {\n",
              "        vertical-align: middle;\n",
              "    }\n",
              "\n",
              "    .dataframe tbody tr th {\n",
              "        vertical-align: top;\n",
              "    }\n",
              "\n",
              "    .dataframe thead th {\n",
              "        text-align: right;\n",
              "    }\n",
              "</style>\n",
              "<table border=\"1\" class=\"dataframe\">\n",
              "  <thead>\n",
              "    <tr style=\"text-align: right;\">\n",
              "      <th></th>\n",
              "      <th>mes</th>\n",
              "      <th>AstraZeneca</th>\n",
              "      <th>COVISHIELD</th>\n",
              "      <th>Sinopharm</th>\n",
              "      <th>Sputnik</th>\n",
              "    </tr>\n",
              "  </thead>\n",
              "  <tbody>\n",
              "    <tr>\n",
              "      <th>11</th>\n",
              "      <td>2020-12</td>\n",
              "      <td>0.0</td>\n",
              "      <td>1.0</td>\n",
              "      <td>0.0</td>\n",
              "      <td>43298.0</td>\n",
              "    </tr>\n",
              "    <tr>\n",
              "      <th>12</th>\n",
              "      <td>2021-01</td>\n",
              "      <td>8.0</td>\n",
              "      <td>64.0</td>\n",
              "      <td>18.0</td>\n",
              "      <td>344957.0</td>\n",
              "    </tr>\n",
              "    <tr>\n",
              "      <th>13</th>\n",
              "      <td>2021-02</td>\n",
              "      <td>29.0</td>\n",
              "      <td>261646.0</td>\n",
              "      <td>115.0</td>\n",
              "      <td>615667.0</td>\n",
              "    </tr>\n",
              "    <tr>\n",
              "      <th>14</th>\n",
              "      <td>2021-03</td>\n",
              "      <td>15343.0</td>\n",
              "      <td>321712.0</td>\n",
              "      <td>815272.0</td>\n",
              "      <td>1822804.0</td>\n",
              "    </tr>\n",
              "    <tr>\n",
              "      <th>15</th>\n",
              "      <td>2021-04</td>\n",
              "      <td>957306.0</td>\n",
              "      <td>39860.0</td>\n",
              "      <td>1167330.0</td>\n",
              "      <td>1858319.0</td>\n",
              "    </tr>\n",
              "    <tr>\n",
              "      <th>16</th>\n",
              "      <td>2021-05</td>\n",
              "      <td>650830.0</td>\n",
              "      <td>28081.0</td>\n",
              "      <td>1606237.0</td>\n",
              "      <td>2318405.0</td>\n",
              "    </tr>\n",
              "    <tr>\n",
              "      <th>17</th>\n",
              "      <td>2021-06</td>\n",
              "      <td>5584090.0</td>\n",
              "      <td>0.0</td>\n",
              "      <td>987497.0</td>\n",
              "      <td>2078611.0</td>\n",
              "    </tr>\n",
              "    <tr>\n",
              "      <th>18</th>\n",
              "      <td>2021-07</td>\n",
              "      <td>3006151.0</td>\n",
              "      <td>0.0</td>\n",
              "      <td>4318012.0</td>\n",
              "      <td>2234092.0</td>\n",
              "    </tr>\n",
              "  </tbody>\n",
              "</table>\n",
              "</div>"
            ],
            "text/plain": [
              "        mes  AstraZeneca  COVISHIELD  Sinopharm    Sputnik\n",
              "11  2020-12          0.0         1.0        0.0    43298.0\n",
              "12  2021-01          8.0        64.0       18.0   344957.0\n",
              "13  2021-02         29.0    261646.0      115.0   615667.0\n",
              "14  2021-03      15343.0    321712.0   815272.0  1822804.0\n",
              "15  2021-04     957306.0     39860.0  1167330.0  1858319.0\n",
              "16  2021-05     650830.0     28081.0  1606237.0  2318405.0\n",
              "17  2021-06    5584090.0         0.0   987497.0  2078611.0\n",
              "18  2021-07    3006151.0         0.0  4318012.0  2234092.0"
            ]
          },
          "metadata": {
            "tags": []
          },
          "execution_count": 47
        }
      ]
    },
    {
      "cell_type": "code",
      "metadata": {
        "colab": {
          "base_uri": "https://localhost:8080/",
          "height": 17
        },
        "id": "49AQFGJuzHrV",
        "outputId": "638c29be-3a22-4fac-8a41-e4b214da98fa"
      },
      "source": [
        "# Descargar CSV\n",
        "mes_vacunas.to_csv('mes_vacunas.csv',index=False)\n",
        "files.download(\"mes_vacunas.csv\")"
      ],
      "execution_count": 48,
      "outputs": [
        {
          "output_type": "display_data",
          "data": {
            "application/javascript": [
              "\n",
              "    async function download(id, filename, size) {\n",
              "      if (!google.colab.kernel.accessAllowed) {\n",
              "        return;\n",
              "      }\n",
              "      const div = document.createElement('div');\n",
              "      const label = document.createElement('label');\n",
              "      label.textContent = `Downloading \"${filename}\": `;\n",
              "      div.appendChild(label);\n",
              "      const progress = document.createElement('progress');\n",
              "      progress.max = size;\n",
              "      div.appendChild(progress);\n",
              "      document.body.appendChild(div);\n",
              "\n",
              "      const buffers = [];\n",
              "      let downloaded = 0;\n",
              "\n",
              "      const channel = await google.colab.kernel.comms.open(id);\n",
              "      // Send a message to notify the kernel that we're ready.\n",
              "      channel.send({})\n",
              "\n",
              "      for await (const message of channel.messages) {\n",
              "        // Send a message to notify the kernel that we're ready.\n",
              "        channel.send({})\n",
              "        if (message.buffers) {\n",
              "          for (const buffer of message.buffers) {\n",
              "            buffers.push(buffer);\n",
              "            downloaded += buffer.byteLength;\n",
              "            progress.value = downloaded;\n",
              "          }\n",
              "        }\n",
              "      }\n",
              "      const blob = new Blob(buffers, {type: 'application/binary'});\n",
              "      const a = document.createElement('a');\n",
              "      a.href = window.URL.createObjectURL(blob);\n",
              "      a.download = filename;\n",
              "      div.appendChild(a);\n",
              "      a.click();\n",
              "      div.remove();\n",
              "    }\n",
              "  "
            ],
            "text/plain": [
              "<IPython.core.display.Javascript object>"
            ]
          },
          "metadata": {
            "tags": []
          }
        },
        {
          "output_type": "display_data",
          "data": {
            "application/javascript": [
              "download(\"download_904f0390-df67-4c72-8acb-eca80419cdea\", \"mes_vacunas.csv\", 358)"
            ],
            "text/plain": [
              "<IPython.core.display.Javascript object>"
            ]
          },
          "metadata": {
            "tags": []
          }
        }
      ]
    },
    {
      "cell_type": "markdown",
      "metadata": {
        "id": "d6MkZRwQzxsR"
      },
      "source": [
        "Total de vacunas aplicadas por marca"
      ]
    },
    {
      "cell_type": "code",
      "metadata": {
        "colab": {
          "base_uri": "https://localhost:8080/",
          "height": 134
        },
        "id": "6F8rB8EGz5pp",
        "outputId": "fb6b48ac-807d-44d0-f0a7-7750ba73b009"
      },
      "source": [
        "mes_vacunas['total'] = 'total'\n",
        "total_vacunas = mes_vacunas.groupby(['total'])['AstraZeneca','COVISHIELD','Sinopharm','Sputnik'].sum().reset_index()\n",
        "total_vacunas"
      ],
      "execution_count": 49,
      "outputs": [
        {
          "output_type": "stream",
          "text": [
            "/usr/local/lib/python3.7/dist-packages/ipykernel_launcher.py:2: FutureWarning: Indexing with multiple keys (implicitly converted to a tuple of keys) will be deprecated, use a list instead.\n",
            "  \n"
          ],
          "name": "stderr"
        },
        {
          "output_type": "execute_result",
          "data": {
            "text/html": [
              "<div>\n",
              "<style scoped>\n",
              "    .dataframe tbody tr th:only-of-type {\n",
              "        vertical-align: middle;\n",
              "    }\n",
              "\n",
              "    .dataframe tbody tr th {\n",
              "        vertical-align: top;\n",
              "    }\n",
              "\n",
              "    .dataframe thead th {\n",
              "        text-align: right;\n",
              "    }\n",
              "</style>\n",
              "<table border=\"1\" class=\"dataframe\">\n",
              "  <thead>\n",
              "    <tr style=\"text-align: right;\">\n",
              "      <th></th>\n",
              "      <th>total</th>\n",
              "      <th>AstraZeneca</th>\n",
              "      <th>COVISHIELD</th>\n",
              "      <th>Sinopharm</th>\n",
              "      <th>Sputnik</th>\n",
              "    </tr>\n",
              "  </thead>\n",
              "  <tbody>\n",
              "    <tr>\n",
              "      <th>0</th>\n",
              "      <td>total</td>\n",
              "      <td>10213757.0</td>\n",
              "      <td>651364.0</td>\n",
              "      <td>8894481.0</td>\n",
              "      <td>11316153.0</td>\n",
              "    </tr>\n",
              "  </tbody>\n",
              "</table>\n",
              "</div>"
            ],
            "text/plain": [
              "   total  AstraZeneca  COVISHIELD  Sinopharm     Sputnik\n",
              "0  total   10213757.0    651364.0  8894481.0  11316153.0"
            ]
          },
          "metadata": {
            "tags": []
          },
          "execution_count": 49
        }
      ]
    },
    {
      "cell_type": "code",
      "metadata": {
        "colab": {
          "base_uri": "https://localhost:8080/",
          "height": 17
        },
        "id": "TeJBpAG43i9S",
        "outputId": "466ba742-8f48-4a85-cd33-5d3980ccf094"
      },
      "source": [
        "# Descargar CSV\n",
        "mes_vacunas.to_csv('total_vacunas.csv',index=False)\n",
        "files.download(\"total_vacunas.csv\")"
      ],
      "execution_count": 50,
      "outputs": [
        {
          "output_type": "display_data",
          "data": {
            "application/javascript": [
              "\n",
              "    async function download(id, filename, size) {\n",
              "      if (!google.colab.kernel.accessAllowed) {\n",
              "        return;\n",
              "      }\n",
              "      const div = document.createElement('div');\n",
              "      const label = document.createElement('label');\n",
              "      label.textContent = `Downloading \"${filename}\": `;\n",
              "      div.appendChild(label);\n",
              "      const progress = document.createElement('progress');\n",
              "      progress.max = size;\n",
              "      div.appendChild(progress);\n",
              "      document.body.appendChild(div);\n",
              "\n",
              "      const buffers = [];\n",
              "      let downloaded = 0;\n",
              "\n",
              "      const channel = await google.colab.kernel.comms.open(id);\n",
              "      // Send a message to notify the kernel that we're ready.\n",
              "      channel.send({})\n",
              "\n",
              "      for await (const message of channel.messages) {\n",
              "        // Send a message to notify the kernel that we're ready.\n",
              "        channel.send({})\n",
              "        if (message.buffers) {\n",
              "          for (const buffer of message.buffers) {\n",
              "            buffers.push(buffer);\n",
              "            downloaded += buffer.byteLength;\n",
              "            progress.value = downloaded;\n",
              "          }\n",
              "        }\n",
              "      }\n",
              "      const blob = new Blob(buffers, {type: 'application/binary'});\n",
              "      const a = document.createElement('a');\n",
              "      a.href = window.URL.createObjectURL(blob);\n",
              "      a.download = filename;\n",
              "      div.appendChild(a);\n",
              "      a.click();\n",
              "      div.remove();\n",
              "    }\n",
              "  "
            ],
            "text/plain": [
              "<IPython.core.display.Javascript object>"
            ]
          },
          "metadata": {
            "tags": []
          }
        },
        {
          "output_type": "display_data",
          "data": {
            "application/javascript": [
              "download(\"download_8caa8c61-140d-4712-a041-34ad47b27276\", \"total_vacunas.csv\", 412)"
            ],
            "text/plain": [
              "<IPython.core.display.Javascript object>"
            ]
          },
          "metadata": {
            "tags": []
          }
        }
      ]
    },
    {
      "cell_type": "markdown",
      "metadata": {
        "id": "1Owb1UgP5M70"
      },
      "source": [
        "# Sección nueva"
      ]
    }
  ]
}