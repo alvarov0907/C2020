{
  "nbformat": 4,
  "nbformat_minor": 0,
  "metadata": {
    "colab": {
      "name": "data_COVID.ipynb",
      "provenance": [],
      "toc_visible": true,
      "authorship_tag": "ABX9TyN6NjigXpV9Bo7D88gjH7CV",
      "include_colab_link": true
    },
    "kernelspec": {
      "name": "python3",
      "display_name": "Python 3"
    },
    "language_info": {
      "name": "python"
    }
  },
  "cells": [
    {
      "cell_type": "markdown",
      "metadata": {
        "id": "view-in-github",
        "colab_type": "text"
      },
      "source": [
        "<a href=\"https://colab.research.google.com/github/alvarov0907/C2020/blob/gh-pages/data_COVID.ipynb\" target=\"_parent\"><img src=\"https://colab.research.google.com/assets/colab-badge.svg\" alt=\"Open In Colab\"/></a>"
      ]
    },
    {
      "cell_type": "code",
      "metadata": {
        "id": "iRODjBZoplI2"
      },
      "source": [
        "import pandas as pd\n",
        "import time\n",
        "from datetime import datetime, timedelta\n",
        "from google.colab import files"
      ],
      "execution_count": 99,
      "outputs": []
    },
    {
      "cell_type": "code",
      "metadata": {
        "id": "caaBNXbKqQxR"
      },
      "source": [
        "# Importar dataset con info COVID Argentina\n",
        "df = pd.read_csv('https://raw.githubusercontent.com/fermasia/infovis/gh-pages/final_prov.csv')\n",
        "# Importar Metadata de Provincias\n",
        "provincias = pd.read_csv('https://infra.datos.gob.ar/catalog/modernizacion/dataset/7/distribution/7.7/download/provincias.csv')"
      ],
      "execution_count": 100,
      "outputs": []
    },
    {
      "cell_type": "markdown",
      "metadata": {
        "id": "TnVtSHjDzoH5"
      },
      "source": [
        "vacunas aplicadas por mes y por marca"
      ]
    },
    {
      "cell_type": "code",
      "metadata": {
        "id": "Ag4OVkIpqR8f"
      },
      "source": [
        "# Prepación inicial de información para graficar\n",
        "df['mes'] = pd.to_datetime(df.fecha).dt.strftime('%Y-%m') #Agregar mes-año al dataset\n"
      ],
      "execution_count": 101,
      "outputs": []
    },
    {
      "cell_type": "code",
      "metadata": {
        "colab": {
          "base_uri": "https://localhost:8080/",
          "height": 351
        },
        "id": "jsO_1p9tqvhF",
        "outputId": "eab8a7c5-70a8-438c-edd8-1ea398bc2e85"
      },
      "source": [
        "mes_vacunas = df.groupby(['mes'])['AstraZeneca','COVISHIELD','Sinopharm','Sputnik'].sum().reset_index()\n",
        "mes_vacunas = mes_vacunas[(mes_vacunas['AstraZeneca'] > 0) | (mes_vacunas['COVISHIELD'] > 0) | (mes_vacunas['Sinopharm'] > 0) | (mes_vacunas['Sputnik'] > 0)] #filtrar fecha desde la 1er \n",
        "mes_vacunas"
      ],
      "execution_count": 102,
      "outputs": [
        {
          "output_type": "stream",
          "text": [
            "/usr/local/lib/python3.7/dist-packages/ipykernel_launcher.py:1: FutureWarning: Indexing with multiple keys (implicitly converted to a tuple of keys) will be deprecated, use a list instead.\n",
            "  \"\"\"Entry point for launching an IPython kernel.\n"
          ],
          "name": "stderr"
        },
        {
          "output_type": "execute_result",
          "data": {
            "text/html": [
              "<div>\n",
              "<style scoped>\n",
              "    .dataframe tbody tr th:only-of-type {\n",
              "        vertical-align: middle;\n",
              "    }\n",
              "\n",
              "    .dataframe tbody tr th {\n",
              "        vertical-align: top;\n",
              "    }\n",
              "\n",
              "    .dataframe thead th {\n",
              "        text-align: right;\n",
              "    }\n",
              "</style>\n",
              "<table border=\"1\" class=\"dataframe\">\n",
              "  <thead>\n",
              "    <tr style=\"text-align: right;\">\n",
              "      <th></th>\n",
              "      <th>mes</th>\n",
              "      <th>AstraZeneca</th>\n",
              "      <th>COVISHIELD</th>\n",
              "      <th>Sinopharm</th>\n",
              "      <th>Sputnik</th>\n",
              "    </tr>\n",
              "  </thead>\n",
              "  <tbody>\n",
              "    <tr>\n",
              "      <th>11</th>\n",
              "      <td>2020-12</td>\n",
              "      <td>0.0</td>\n",
              "      <td>1.0</td>\n",
              "      <td>0.0</td>\n",
              "      <td>43298.0</td>\n",
              "    </tr>\n",
              "    <tr>\n",
              "      <th>12</th>\n",
              "      <td>2021-01</td>\n",
              "      <td>8.0</td>\n",
              "      <td>64.0</td>\n",
              "      <td>18.0</td>\n",
              "      <td>344957.0</td>\n",
              "    </tr>\n",
              "    <tr>\n",
              "      <th>13</th>\n",
              "      <td>2021-02</td>\n",
              "      <td>29.0</td>\n",
              "      <td>261646.0</td>\n",
              "      <td>115.0</td>\n",
              "      <td>615667.0</td>\n",
              "    </tr>\n",
              "    <tr>\n",
              "      <th>14</th>\n",
              "      <td>2021-03</td>\n",
              "      <td>15343.0</td>\n",
              "      <td>321712.0</td>\n",
              "      <td>815272.0</td>\n",
              "      <td>1822804.0</td>\n",
              "    </tr>\n",
              "    <tr>\n",
              "      <th>15</th>\n",
              "      <td>2021-04</td>\n",
              "      <td>957306.0</td>\n",
              "      <td>39860.0</td>\n",
              "      <td>1167330.0</td>\n",
              "      <td>1858319.0</td>\n",
              "    </tr>\n",
              "    <tr>\n",
              "      <th>16</th>\n",
              "      <td>2021-05</td>\n",
              "      <td>650830.0</td>\n",
              "      <td>28081.0</td>\n",
              "      <td>1606237.0</td>\n",
              "      <td>2318405.0</td>\n",
              "    </tr>\n",
              "    <tr>\n",
              "      <th>17</th>\n",
              "      <td>2021-06</td>\n",
              "      <td>5584090.0</td>\n",
              "      <td>0.0</td>\n",
              "      <td>987497.0</td>\n",
              "      <td>2078611.0</td>\n",
              "    </tr>\n",
              "    <tr>\n",
              "      <th>18</th>\n",
              "      <td>2021-07</td>\n",
              "      <td>3006151.0</td>\n",
              "      <td>0.0</td>\n",
              "      <td>4318012.0</td>\n",
              "      <td>2234092.0</td>\n",
              "    </tr>\n",
              "  </tbody>\n",
              "</table>\n",
              "</div>"
            ],
            "text/plain": [
              "        mes  AstraZeneca  COVISHIELD  Sinopharm    Sputnik\n",
              "11  2020-12          0.0         1.0        0.0    43298.0\n",
              "12  2021-01          8.0        64.0       18.0   344957.0\n",
              "13  2021-02         29.0    261646.0      115.0   615667.0\n",
              "14  2021-03      15343.0    321712.0   815272.0  1822804.0\n",
              "15  2021-04     957306.0     39860.0  1167330.0  1858319.0\n",
              "16  2021-05     650830.0     28081.0  1606237.0  2318405.0\n",
              "17  2021-06    5584090.0         0.0   987497.0  2078611.0\n",
              "18  2021-07    3006151.0         0.0  4318012.0  2234092.0"
            ]
          },
          "metadata": {
            "tags": []
          },
          "execution_count": 102
        }
      ]
    },
    {
      "cell_type": "code",
      "metadata": {
        "colab": {
          "base_uri": "https://localhost:8080/",
          "height": 17
        },
        "id": "49AQFGJuzHrV",
        "outputId": "cbe77d47-7aeb-4567-90f7-5da35b59f306"
      },
      "source": [
        "# Descargar CSV\n",
        "mes_vacunas.to_csv('mes_vacunas.csv',index=False)\n",
        "files.download(\"mes_vacunas.csv\")"
      ],
      "execution_count": 103,
      "outputs": [
        {
          "output_type": "display_data",
          "data": {
            "application/javascript": [
              "\n",
              "    async function download(id, filename, size) {\n",
              "      if (!google.colab.kernel.accessAllowed) {\n",
              "        return;\n",
              "      }\n",
              "      const div = document.createElement('div');\n",
              "      const label = document.createElement('label');\n",
              "      label.textContent = `Downloading \"${filename}\": `;\n",
              "      div.appendChild(label);\n",
              "      const progress = document.createElement('progress');\n",
              "      progress.max = size;\n",
              "      div.appendChild(progress);\n",
              "      document.body.appendChild(div);\n",
              "\n",
              "      const buffers = [];\n",
              "      let downloaded = 0;\n",
              "\n",
              "      const channel = await google.colab.kernel.comms.open(id);\n",
              "      // Send a message to notify the kernel that we're ready.\n",
              "      channel.send({})\n",
              "\n",
              "      for await (const message of channel.messages) {\n",
              "        // Send a message to notify the kernel that we're ready.\n",
              "        channel.send({})\n",
              "        if (message.buffers) {\n",
              "          for (const buffer of message.buffers) {\n",
              "            buffers.push(buffer);\n",
              "            downloaded += buffer.byteLength;\n",
              "            progress.value = downloaded;\n",
              "          }\n",
              "        }\n",
              "      }\n",
              "      const blob = new Blob(buffers, {type: 'application/binary'});\n",
              "      const a = document.createElement('a');\n",
              "      a.href = window.URL.createObjectURL(blob);\n",
              "      a.download = filename;\n",
              "      div.appendChild(a);\n",
              "      a.click();\n",
              "      div.remove();\n",
              "    }\n",
              "  "
            ],
            "text/plain": [
              "<IPython.core.display.Javascript object>"
            ]
          },
          "metadata": {
            "tags": []
          }
        },
        {
          "output_type": "display_data",
          "data": {
            "application/javascript": [
              "download(\"download_7e469411-85d2-4665-9e0e-b5522d87bc69\", \"mes_vacunas.csv\", 358)"
            ],
            "text/plain": [
              "<IPython.core.display.Javascript object>"
            ]
          },
          "metadata": {
            "tags": []
          }
        }
      ]
    },
    {
      "cell_type": "markdown",
      "metadata": {
        "id": "d6MkZRwQzxsR"
      },
      "source": [
        "Total de vacunas aplicadas por marca"
      ]
    },
    {
      "cell_type": "code",
      "metadata": {
        "colab": {
          "base_uri": "https://localhost:8080/",
          "height": 134
        },
        "id": "6F8rB8EGz5pp",
        "outputId": "b89f19a3-f955-4555-b847-aab753804506"
      },
      "source": [
        "mes_vacunas['total'] = 'total'\n",
        "total_vacunas = mes_vacunas.groupby(['total'])['AstraZeneca','COVISHIELD','Sinopharm','Sputnik'].sum().reset_index()\n",
        "total_vacunas"
      ],
      "execution_count": 104,
      "outputs": [
        {
          "output_type": "stream",
          "text": [
            "/usr/local/lib/python3.7/dist-packages/ipykernel_launcher.py:2: FutureWarning: Indexing with multiple keys (implicitly converted to a tuple of keys) will be deprecated, use a list instead.\n",
            "  \n"
          ],
          "name": "stderr"
        },
        {
          "output_type": "execute_result",
          "data": {
            "text/html": [
              "<div>\n",
              "<style scoped>\n",
              "    .dataframe tbody tr th:only-of-type {\n",
              "        vertical-align: middle;\n",
              "    }\n",
              "\n",
              "    .dataframe tbody tr th {\n",
              "        vertical-align: top;\n",
              "    }\n",
              "\n",
              "    .dataframe thead th {\n",
              "        text-align: right;\n",
              "    }\n",
              "</style>\n",
              "<table border=\"1\" class=\"dataframe\">\n",
              "  <thead>\n",
              "    <tr style=\"text-align: right;\">\n",
              "      <th></th>\n",
              "      <th>total</th>\n",
              "      <th>AstraZeneca</th>\n",
              "      <th>COVISHIELD</th>\n",
              "      <th>Sinopharm</th>\n",
              "      <th>Sputnik</th>\n",
              "    </tr>\n",
              "  </thead>\n",
              "  <tbody>\n",
              "    <tr>\n",
              "      <th>0</th>\n",
              "      <td>total</td>\n",
              "      <td>10213757.0</td>\n",
              "      <td>651364.0</td>\n",
              "      <td>8894481.0</td>\n",
              "      <td>11316153.0</td>\n",
              "    </tr>\n",
              "  </tbody>\n",
              "</table>\n",
              "</div>"
            ],
            "text/plain": [
              "   total  AstraZeneca  COVISHIELD  Sinopharm     Sputnik\n",
              "0  total   10213757.0    651364.0  8894481.0  11316153.0"
            ]
          },
          "metadata": {
            "tags": []
          },
          "execution_count": 104
        }
      ]
    },
    {
      "cell_type": "code",
      "metadata": {
        "colab": {
          "base_uri": "https://localhost:8080/",
          "height": 17
        },
        "id": "TeJBpAG43i9S",
        "outputId": "97581cad-7d83-4542-8ffc-2f886cddef19"
      },
      "source": [
        "# Descargar CSV\n",
        "# Exporta datos para Flourish\n",
        "mes_vacunas.to_csv('total_vacunas.csv',index=False)\n",
        "files.download(\"total_vacunas.csv\")"
      ],
      "execution_count": 105,
      "outputs": [
        {
          "output_type": "display_data",
          "data": {
            "application/javascript": [
              "\n",
              "    async function download(id, filename, size) {\n",
              "      if (!google.colab.kernel.accessAllowed) {\n",
              "        return;\n",
              "      }\n",
              "      const div = document.createElement('div');\n",
              "      const label = document.createElement('label');\n",
              "      label.textContent = `Downloading \"${filename}\": `;\n",
              "      div.appendChild(label);\n",
              "      const progress = document.createElement('progress');\n",
              "      progress.max = size;\n",
              "      div.appendChild(progress);\n",
              "      document.body.appendChild(div);\n",
              "\n",
              "      const buffers = [];\n",
              "      let downloaded = 0;\n",
              "\n",
              "      const channel = await google.colab.kernel.comms.open(id);\n",
              "      // Send a message to notify the kernel that we're ready.\n",
              "      channel.send({})\n",
              "\n",
              "      for await (const message of channel.messages) {\n",
              "        // Send a message to notify the kernel that we're ready.\n",
              "        channel.send({})\n",
              "        if (message.buffers) {\n",
              "          for (const buffer of message.buffers) {\n",
              "            buffers.push(buffer);\n",
              "            downloaded += buffer.byteLength;\n",
              "            progress.value = downloaded;\n",
              "          }\n",
              "        }\n",
              "      }\n",
              "      const blob = new Blob(buffers, {type: 'application/binary'});\n",
              "      const a = document.createElement('a');\n",
              "      a.href = window.URL.createObjectURL(blob);\n",
              "      a.download = filename;\n",
              "      div.appendChild(a);\n",
              "      a.click();\n",
              "      div.remove();\n",
              "    }\n",
              "  "
            ],
            "text/plain": [
              "<IPython.core.display.Javascript object>"
            ]
          },
          "metadata": {
            "tags": []
          }
        },
        {
          "output_type": "display_data",
          "data": {
            "application/javascript": [
              "download(\"download_ef87fc53-97d4-4bfd-8f5d-d1803750cc5f\", \"total_vacunas.csv\", 412)"
            ],
            "text/plain": [
              "<IPython.core.display.Javascript object>"
            ]
          },
          "metadata": {
            "tags": []
          }
        }
      ]
    },
    {
      "cell_type": "markdown",
      "metadata": {
        "id": "xJKJxq9B-PIF"
      },
      "source": [
        "Totales por provincia"
      ]
    },
    {
      "cell_type": "code",
      "metadata": {
        "id": "i_82wTpK-Lwg"
      },
      "source": [
        "# DATASET mapa de argentina en flousrish\n",
        "##\n",
        " \n",
        "data_groupProv = df.groupby(['residencia_provincia_id'])[['1','2','cuenta_muertes']].sum().reset_index()\n",
        "data_groupProv.rename(columns={'residencia_provincia_id':'id'},inplace=True)\n",
        "data_groupProv.rename(columns={'1':'D1'},inplace=True)\n",
        "data_groupProv.rename(columns={'2':'D2'},inplace=True)\n",
        "\n",
        "data3_pobla = df.groupby(['residencia_provincia_id'])['Poblacion'].max().reset_index().rename(columns={'residencia_provincia_id':'id'})"
      ],
      "execution_count": 106,
      "outputs": []
    },
    {
      "cell_type": "code",
      "metadata": {
        "id": "luKtRNuMF0Nu"
      },
      "source": [
        "data_prov = pd.merge(data_groupProv,provincias,how='inner',on='id')\n",
        "data_prov_Pob = pd.merge(data_prov,data3_pobla,how='inner',on='id')"
      ],
      "execution_count": 107,
      "outputs": []
    },
    {
      "cell_type": "code",
      "metadata": {
        "colab": {
          "base_uri": "https://localhost:8080/",
          "height": 1000
        },
        "id": "ypKcBVoeAyCL",
        "outputId": "988b12cb-e342-4302-fc41-77d6a328b426"
      },
      "source": [
        "data_prov_Pob['Porcentaje_1D'] = (data_prov_Pob['D1'] / data_prov_Pob['Poblacion'] * 100).round(0)\n",
        "data_prov_Pob['Porcentaje_2D'] = (data_prov_Pob['D2'] / data_prov_Pob['Poblacion'] * 100).round(0)\n",
        "data_prov_Pob"
      ],
      "execution_count": 108,
      "outputs": [
        {
          "output_type": "execute_result",
          "data": {
            "text/html": [
              "<div>\n",
              "<style scoped>\n",
              "    .dataframe tbody tr th:only-of-type {\n",
              "        vertical-align: middle;\n",
              "    }\n",
              "\n",
              "    .dataframe tbody tr th {\n",
              "        vertical-align: top;\n",
              "    }\n",
              "\n",
              "    .dataframe thead th {\n",
              "        text-align: right;\n",
              "    }\n",
              "</style>\n",
              "<table border=\"1\" class=\"dataframe\">\n",
              "  <thead>\n",
              "    <tr style=\"text-align: right;\">\n",
              "      <th></th>\n",
              "      <th>id</th>\n",
              "      <th>D1</th>\n",
              "      <th>D2</th>\n",
              "      <th>cuenta_muertes</th>\n",
              "      <th>categoria</th>\n",
              "      <th>centroide_lat</th>\n",
              "      <th>centroide_lon</th>\n",
              "      <th>fuente</th>\n",
              "      <th>iso_id</th>\n",
              "      <th>iso_nombre</th>\n",
              "      <th>nombre</th>\n",
              "      <th>nombre_completo</th>\n",
              "      <th>Poblacion</th>\n",
              "      <th>Porcentaje_1D</th>\n",
              "      <th>Porcentaje_2D</th>\n",
              "    </tr>\n",
              "  </thead>\n",
              "  <tbody>\n",
              "    <tr>\n",
              "      <th>0</th>\n",
              "      <td>2</td>\n",
              "      <td>2059449.0</td>\n",
              "      <td>661158.0</td>\n",
              "      <td>11310.0</td>\n",
              "      <td>Ciudad Autónoma</td>\n",
              "      <td>-34.614493</td>\n",
              "      <td>-58.445856</td>\n",
              "      <td>IGN</td>\n",
              "      <td>AR-C</td>\n",
              "      <td>Ciudad Autónoma de Buenos Aires</td>\n",
              "      <td>Ciudad Autónoma de Buenos Aires</td>\n",
              "      <td>Ciudad Autónoma de Buenos Aires</td>\n",
              "      <td>3075646</td>\n",
              "      <td>67.0</td>\n",
              "      <td>21.0</td>\n",
              "    </tr>\n",
              "    <tr>\n",
              "      <th>1</th>\n",
              "      <td>6</td>\n",
              "      <td>9383972.0</td>\n",
              "      <td>2344751.0</td>\n",
              "      <td>53325.0</td>\n",
              "      <td>Provincia</td>\n",
              "      <td>-36.676942</td>\n",
              "      <td>-60.558832</td>\n",
              "      <td>IGN</td>\n",
              "      <td>AR-B</td>\n",
              "      <td>Buenos Aires</td>\n",
              "      <td>Buenos Aires</td>\n",
              "      <td>Provincia de Buenos Aires</td>\n",
              "      <td>17541141</td>\n",
              "      <td>53.0</td>\n",
              "      <td>13.0</td>\n",
              "    </tr>\n",
              "    <tr>\n",
              "      <th>2</th>\n",
              "      <td>10</td>\n",
              "      <td>230343.0</td>\n",
              "      <td>53473.0</td>\n",
              "      <td>460.0</td>\n",
              "      <td>Provincia</td>\n",
              "      <td>-27.335833</td>\n",
              "      <td>-66.947682</td>\n",
              "      <td>IGN</td>\n",
              "      <td>AR-K</td>\n",
              "      <td>Catamarca</td>\n",
              "      <td>Catamarca</td>\n",
              "      <td>Provincia de Catamarca</td>\n",
              "      <td>415438</td>\n",
              "      <td>55.0</td>\n",
              "      <td>13.0</td>\n",
              "    </tr>\n",
              "    <tr>\n",
              "      <th>3</th>\n",
              "      <td>14</td>\n",
              "      <td>2073737.0</td>\n",
              "      <td>582605.0</td>\n",
              "      <td>6827.0</td>\n",
              "      <td>Provincia</td>\n",
              "      <td>-32.142933</td>\n",
              "      <td>-63.801753</td>\n",
              "      <td>IGN</td>\n",
              "      <td>AR-X</td>\n",
              "      <td>Córdoba</td>\n",
              "      <td>Córdoba</td>\n",
              "      <td>Provincia de Córdoba</td>\n",
              "      <td>3760450</td>\n",
              "      <td>55.0</td>\n",
              "      <td>15.0</td>\n",
              "    </tr>\n",
              "    <tr>\n",
              "      <th>4</th>\n",
              "      <td>18</td>\n",
              "      <td>569546.0</td>\n",
              "      <td>160208.0</td>\n",
              "      <td>929.0</td>\n",
              "      <td>Provincia</td>\n",
              "      <td>-28.774305</td>\n",
              "      <td>-57.801219</td>\n",
              "      <td>IGN</td>\n",
              "      <td>AR-W</td>\n",
              "      <td>Corrientes</td>\n",
              "      <td>Corrientes</td>\n",
              "      <td>Provincia de Corrientes</td>\n",
              "      <td>1120801</td>\n",
              "      <td>51.0</td>\n",
              "      <td>14.0</td>\n",
              "    </tr>\n",
              "    <tr>\n",
              "      <th>5</th>\n",
              "      <td>22</td>\n",
              "      <td>548253.0</td>\n",
              "      <td>148982.0</td>\n",
              "      <td>2143.0</td>\n",
              "      <td>Provincia</td>\n",
              "      <td>-26.386431</td>\n",
              "      <td>-60.765831</td>\n",
              "      <td>IGN</td>\n",
              "      <td>AR-H</td>\n",
              "      <td>Chaco</td>\n",
              "      <td>Chaco</td>\n",
              "      <td>Provincia del Chaco</td>\n",
              "      <td>1204541</td>\n",
              "      <td>46.0</td>\n",
              "      <td>12.0</td>\n",
              "    </tr>\n",
              "    <tr>\n",
              "      <th>6</th>\n",
              "      <td>26</td>\n",
              "      <td>311241.0</td>\n",
              "      <td>86076.0</td>\n",
              "      <td>1325.0</td>\n",
              "      <td>Provincia</td>\n",
              "      <td>-43.788623</td>\n",
              "      <td>-68.526759</td>\n",
              "      <td>IGN</td>\n",
              "      <td>AR-U</td>\n",
              "      <td>Chubut</td>\n",
              "      <td>Chubut</td>\n",
              "      <td>Provincia del Chubut</td>\n",
              "      <td>618994</td>\n",
              "      <td>50.0</td>\n",
              "      <td>14.0</td>\n",
              "    </tr>\n",
              "    <tr>\n",
              "      <th>7</th>\n",
              "      <td>30</td>\n",
              "      <td>694638.0</td>\n",
              "      <td>184620.0</td>\n",
              "      <td>2146.0</td>\n",
              "      <td>Provincia</td>\n",
              "      <td>-32.058874</td>\n",
              "      <td>-59.201448</td>\n",
              "      <td>IGN</td>\n",
              "      <td>AR-E</td>\n",
              "      <td>Entre Ríos</td>\n",
              "      <td>Entre Ríos</td>\n",
              "      <td>Provincia de Entre Ríos</td>\n",
              "      <td>1385961</td>\n",
              "      <td>50.0</td>\n",
              "      <td>13.0</td>\n",
              "    </tr>\n",
              "    <tr>\n",
              "      <th>8</th>\n",
              "      <td>34</td>\n",
              "      <td>336292.0</td>\n",
              "      <td>69973.0</td>\n",
              "      <td>1008.0</td>\n",
              "      <td>Provincia</td>\n",
              "      <td>-24.894973</td>\n",
              "      <td>-59.932441</td>\n",
              "      <td>IGN</td>\n",
              "      <td>AR-P</td>\n",
              "      <td>Formosa</td>\n",
              "      <td>Formosa</td>\n",
              "      <td>Provincia de Formosa</td>\n",
              "      <td>605193</td>\n",
              "      <td>56.0</td>\n",
              "      <td>12.0</td>\n",
              "    </tr>\n",
              "    <tr>\n",
              "      <th>9</th>\n",
              "      <td>38</td>\n",
              "      <td>395108.0</td>\n",
              "      <td>109543.0</td>\n",
              "      <td>1314.0</td>\n",
              "      <td>Provincia</td>\n",
              "      <td>-23.320078</td>\n",
              "      <td>-65.764252</td>\n",
              "      <td>IGN</td>\n",
              "      <td>AR-Y</td>\n",
              "      <td>Jujuy</td>\n",
              "      <td>Jujuy</td>\n",
              "      <td>Provincia de Jujuy</td>\n",
              "      <td>770881</td>\n",
              "      <td>51.0</td>\n",
              "      <td>14.0</td>\n",
              "    </tr>\n",
              "    <tr>\n",
              "      <th>10</th>\n",
              "      <td>42</td>\n",
              "      <td>215643.0</td>\n",
              "      <td>78424.0</td>\n",
              "      <td>833.0</td>\n",
              "      <td>Provincia</td>\n",
              "      <td>-37.131554</td>\n",
              "      <td>-65.446655</td>\n",
              "      <td>IGN</td>\n",
              "      <td>AR-L</td>\n",
              "      <td>La Pampa</td>\n",
              "      <td>La Pampa</td>\n",
              "      <td>Provincia de La Pampa</td>\n",
              "      <td>358428</td>\n",
              "      <td>60.0</td>\n",
              "      <td>22.0</td>\n",
              "    </tr>\n",
              "    <tr>\n",
              "      <th>11</th>\n",
              "      <td>46</td>\n",
              "      <td>222000.0</td>\n",
              "      <td>61562.0</td>\n",
              "      <td>775.0</td>\n",
              "      <td>Provincia</td>\n",
              "      <td>-29.685776</td>\n",
              "      <td>-67.181736</td>\n",
              "      <td>IGN</td>\n",
              "      <td>AR-F</td>\n",
              "      <td>La Rioja</td>\n",
              "      <td>La Rioja</td>\n",
              "      <td>Provincia de La Rioja</td>\n",
              "      <td>393531</td>\n",
              "      <td>56.0</td>\n",
              "      <td>16.0</td>\n",
              "    </tr>\n",
              "    <tr>\n",
              "      <th>12</th>\n",
              "      <td>50</td>\n",
              "      <td>1045606.0</td>\n",
              "      <td>245475.0</td>\n",
              "      <td>4151.0</td>\n",
              "      <td>Provincia</td>\n",
              "      <td>-34.629887</td>\n",
              "      <td>-68.583123</td>\n",
              "      <td>IGN</td>\n",
              "      <td>AR-M</td>\n",
              "      <td>Mendoza</td>\n",
              "      <td>Mendoza</td>\n",
              "      <td>Provincia de Mendoza</td>\n",
              "      <td>1990338</td>\n",
              "      <td>53.0</td>\n",
              "      <td>12.0</td>\n",
              "    </tr>\n",
              "    <tr>\n",
              "      <th>13</th>\n",
              "      <td>54</td>\n",
              "      <td>475635.0</td>\n",
              "      <td>152060.0</td>\n",
              "      <td>523.0</td>\n",
              "      <td>Provincia</td>\n",
              "      <td>-26.875397</td>\n",
              "      <td>-54.651697</td>\n",
              "      <td>IGN</td>\n",
              "      <td>AR-N</td>\n",
              "      <td>Misiones</td>\n",
              "      <td>Misiones</td>\n",
              "      <td>Provincia de Misiones</td>\n",
              "      <td>1261294</td>\n",
              "      <td>38.0</td>\n",
              "      <td>12.0</td>\n",
              "    </tr>\n",
              "    <tr>\n",
              "      <th>14</th>\n",
              "      <td>58</td>\n",
              "      <td>382152.0</td>\n",
              "      <td>115758.0</td>\n",
              "      <td>2012.0</td>\n",
              "      <td>Provincia</td>\n",
              "      <td>-38.641758</td>\n",
              "      <td>-70.118571</td>\n",
              "      <td>IGN</td>\n",
              "      <td>AR-Q</td>\n",
              "      <td>Neuquén</td>\n",
              "      <td>Neuquén</td>\n",
              "      <td>Provincia del Neuquén</td>\n",
              "      <td>664057</td>\n",
              "      <td>58.0</td>\n",
              "      <td>17.0</td>\n",
              "    </tr>\n",
              "    <tr>\n",
              "      <th>15</th>\n",
              "      <td>62</td>\n",
              "      <td>428587.0</td>\n",
              "      <td>117424.0</td>\n",
              "      <td>2061.0</td>\n",
              "      <td>Provincia</td>\n",
              "      <td>-40.405796</td>\n",
              "      <td>-67.229330</td>\n",
              "      <td>IGN</td>\n",
              "      <td>AR-R</td>\n",
              "      <td>Río Negro</td>\n",
              "      <td>Río Negro</td>\n",
              "      <td>Provincia de Río Negro</td>\n",
              "      <td>774761</td>\n",
              "      <td>55.0</td>\n",
              "      <td>15.0</td>\n",
              "    </tr>\n",
              "    <tr>\n",
              "      <th>16</th>\n",
              "      <td>66</td>\n",
              "      <td>660961.0</td>\n",
              "      <td>162704.0</td>\n",
              "      <td>2146.0</td>\n",
              "      <td>Provincia</td>\n",
              "      <td>-24.299134</td>\n",
              "      <td>-64.814463</td>\n",
              "      <td>IGN</td>\n",
              "      <td>AR-A</td>\n",
              "      <td>Salta</td>\n",
              "      <td>Salta</td>\n",
              "      <td>Provincia de Salta</td>\n",
              "      <td>1424397</td>\n",
              "      <td>46.0</td>\n",
              "      <td>11.0</td>\n",
              "    </tr>\n",
              "    <tr>\n",
              "      <th>17</th>\n",
              "      <td>70</td>\n",
              "      <td>423933.0</td>\n",
              "      <td>110209.0</td>\n",
              "      <td>979.0</td>\n",
              "      <td>Provincia</td>\n",
              "      <td>-30.865368</td>\n",
              "      <td>-68.889491</td>\n",
              "      <td>IGN</td>\n",
              "      <td>AR-J</td>\n",
              "      <td>San Juan</td>\n",
              "      <td>San Juan</td>\n",
              "      <td>Provincia de San Juan</td>\n",
              "      <td>781217</td>\n",
              "      <td>54.0</td>\n",
              "      <td>14.0</td>\n",
              "    </tr>\n",
              "    <tr>\n",
              "      <th>18</th>\n",
              "      <td>74</td>\n",
              "      <td>304070.0</td>\n",
              "      <td>100224.0</td>\n",
              "      <td>1249.0</td>\n",
              "      <td>Provincia</td>\n",
              "      <td>-33.757726</td>\n",
              "      <td>-66.028130</td>\n",
              "      <td>IGN</td>\n",
              "      <td>AR-D</td>\n",
              "      <td>San Luis</td>\n",
              "      <td>San Luis</td>\n",
              "      <td>Provincia de San Luis</td>\n",
              "      <td>508328</td>\n",
              "      <td>60.0</td>\n",
              "      <td>20.0</td>\n",
              "    </tr>\n",
              "    <tr>\n",
              "      <th>19</th>\n",
              "      <td>78</td>\n",
              "      <td>187728.0</td>\n",
              "      <td>55336.0</td>\n",
              "      <td>961.0</td>\n",
              "      <td>Provincia</td>\n",
              "      <td>-48.815485</td>\n",
              "      <td>-69.955762</td>\n",
              "      <td>IGN</td>\n",
              "      <td>AR-Z</td>\n",
              "      <td>Santa Cruz</td>\n",
              "      <td>Santa Cruz</td>\n",
              "      <td>Provincia de Santa Cruz</td>\n",
              "      <td>365698</td>\n",
              "      <td>51.0</td>\n",
              "      <td>15.0</td>\n",
              "    </tr>\n",
              "    <tr>\n",
              "      <th>20</th>\n",
              "      <td>82</td>\n",
              "      <td>2011419.0</td>\n",
              "      <td>514722.0</td>\n",
              "      <td>7989.0</td>\n",
              "      <td>Provincia</td>\n",
              "      <td>-30.706927</td>\n",
              "      <td>-60.949837</td>\n",
              "      <td>IGN</td>\n",
              "      <td>AR-S</td>\n",
              "      <td>Santa Fe</td>\n",
              "      <td>Santa Fe</td>\n",
              "      <td>Provincia de Santa Fe</td>\n",
              "      <td>3536418</td>\n",
              "      <td>57.0</td>\n",
              "      <td>15.0</td>\n",
              "    </tr>\n",
              "    <tr>\n",
              "      <th>21</th>\n",
              "      <td>86</td>\n",
              "      <td>561342.0</td>\n",
              "      <td>118923.0</td>\n",
              "      <td>1053.0</td>\n",
              "      <td>Provincia</td>\n",
              "      <td>-27.782412</td>\n",
              "      <td>-63.252387</td>\n",
              "      <td>IGN</td>\n",
              "      <td>AR-G</td>\n",
              "      <td>Santiago del Estero</td>\n",
              "      <td>Santiago del Estero</td>\n",
              "      <td>Provincia de Santiago del Estero</td>\n",
              "      <td>978313</td>\n",
              "      <td>57.0</td>\n",
              "      <td>12.0</td>\n",
              "    </tr>\n",
              "    <tr>\n",
              "      <th>22</th>\n",
              "      <td>90</td>\n",
              "      <td>884429.0</td>\n",
              "      <td>264580.0</td>\n",
              "      <td>2648.0</td>\n",
              "      <td>Provincia</td>\n",
              "      <td>-26.947800</td>\n",
              "      <td>-65.364758</td>\n",
              "      <td>IGN</td>\n",
              "      <td>AR-T</td>\n",
              "      <td>Tucumán</td>\n",
              "      <td>Tucumán</td>\n",
              "      <td>Provincia de Tucumán</td>\n",
              "      <td>1694656</td>\n",
              "      <td>52.0</td>\n",
              "      <td>16.0</td>\n",
              "    </tr>\n",
              "    <tr>\n",
              "      <th>23</th>\n",
              "      <td>94</td>\n",
              "      <td>101831.0</td>\n",
              "      <td>27425.0</td>\n",
              "      <td>466.0</td>\n",
              "      <td>Provincia</td>\n",
              "      <td>-82.521518</td>\n",
              "      <td>-50.742749</td>\n",
              "      <td>IGN</td>\n",
              "      <td>AR-V</td>\n",
              "      <td>Tierra del Fuego</td>\n",
              "      <td>Tierra del Fuego, Antártida e Islas del Atlánt...</td>\n",
              "      <td>Provincia de Tierra del Fuego, Antártida e Isl...</td>\n",
              "      <td>173432</td>\n",
              "      <td>59.0</td>\n",
              "      <td>16.0</td>\n",
              "    </tr>\n",
              "  </tbody>\n",
              "</table>\n",
              "</div>"
            ],
            "text/plain": [
              "    id         D1         D2  ...  Poblacion Porcentaje_1D  Porcentaje_2D\n",
              "0    2  2059449.0   661158.0  ...    3075646          67.0           21.0\n",
              "1    6  9383972.0  2344751.0  ...   17541141          53.0           13.0\n",
              "2   10   230343.0    53473.0  ...     415438          55.0           13.0\n",
              "3   14  2073737.0   582605.0  ...    3760450          55.0           15.0\n",
              "4   18   569546.0   160208.0  ...    1120801          51.0           14.0\n",
              "5   22   548253.0   148982.0  ...    1204541          46.0           12.0\n",
              "6   26   311241.0    86076.0  ...     618994          50.0           14.0\n",
              "7   30   694638.0   184620.0  ...    1385961          50.0           13.0\n",
              "8   34   336292.0    69973.0  ...     605193          56.0           12.0\n",
              "9   38   395108.0   109543.0  ...     770881          51.0           14.0\n",
              "10  42   215643.0    78424.0  ...     358428          60.0           22.0\n",
              "11  46   222000.0    61562.0  ...     393531          56.0           16.0\n",
              "12  50  1045606.0   245475.0  ...    1990338          53.0           12.0\n",
              "13  54   475635.0   152060.0  ...    1261294          38.0           12.0\n",
              "14  58   382152.0   115758.0  ...     664057          58.0           17.0\n",
              "15  62   428587.0   117424.0  ...     774761          55.0           15.0\n",
              "16  66   660961.0   162704.0  ...    1424397          46.0           11.0\n",
              "17  70   423933.0   110209.0  ...     781217          54.0           14.0\n",
              "18  74   304070.0   100224.0  ...     508328          60.0           20.0\n",
              "19  78   187728.0    55336.0  ...     365698          51.0           15.0\n",
              "20  82  2011419.0   514722.0  ...    3536418          57.0           15.0\n",
              "21  86   561342.0   118923.0  ...     978313          57.0           12.0\n",
              "22  90   884429.0   264580.0  ...    1694656          52.0           16.0\n",
              "23  94   101831.0    27425.0  ...     173432          59.0           16.0\n",
              "\n",
              "[24 rows x 15 columns]"
            ]
          },
          "metadata": {
            "tags": []
          },
          "execution_count": 108
        }
      ]
    },
    {
      "cell_type": "code",
      "metadata": {
        "colab": {
          "base_uri": "https://localhost:8080/",
          "height": 17
        },
        "id": "0N9S58r4ILgW",
        "outputId": "7749621b-eec1-447c-dc84-e32cdfd251ac"
      },
      "source": [
        "# Descargar CSV\n",
        "# Exporta datos para Flourish\n",
        "\n",
        "data_prov_Pob.to_csv('datos_por_provincia.csv',columns=['id','D1','D2','cuenta_muertes','Porcentaje_1D','Porcentaje_2D','nombre_completo'],index=False)\n",
        "files.download(\"datos_por_provincia.csv\")"
      ],
      "execution_count": 109,
      "outputs": [
        {
          "output_type": "display_data",
          "data": {
            "application/javascript": [
              "\n",
              "    async function download(id, filename, size) {\n",
              "      if (!google.colab.kernel.accessAllowed) {\n",
              "        return;\n",
              "      }\n",
              "      const div = document.createElement('div');\n",
              "      const label = document.createElement('label');\n",
              "      label.textContent = `Downloading \"${filename}\": `;\n",
              "      div.appendChild(label);\n",
              "      const progress = document.createElement('progress');\n",
              "      progress.max = size;\n",
              "      div.appendChild(progress);\n",
              "      document.body.appendChild(div);\n",
              "\n",
              "      const buffers = [];\n",
              "      let downloaded = 0;\n",
              "\n",
              "      const channel = await google.colab.kernel.comms.open(id);\n",
              "      // Send a message to notify the kernel that we're ready.\n",
              "      channel.send({})\n",
              "\n",
              "      for await (const message of channel.messages) {\n",
              "        // Send a message to notify the kernel that we're ready.\n",
              "        channel.send({})\n",
              "        if (message.buffers) {\n",
              "          for (const buffer of message.buffers) {\n",
              "            buffers.push(buffer);\n",
              "            downloaded += buffer.byteLength;\n",
              "            progress.value = downloaded;\n",
              "          }\n",
              "        }\n",
              "      }\n",
              "      const blob = new Blob(buffers, {type: 'application/binary'});\n",
              "      const a = document.createElement('a');\n",
              "      a.href = window.URL.createObjectURL(blob);\n",
              "      a.download = filename;\n",
              "      div.appendChild(a);\n",
              "      a.click();\n",
              "      div.remove();\n",
              "    }\n",
              "  "
            ],
            "text/plain": [
              "<IPython.core.display.Javascript object>"
            ]
          },
          "metadata": {
            "tags": []
          }
        },
        {
          "output_type": "display_data",
          "data": {
            "application/javascript": [
              "download(\"download_c6507e79-ce6e-4ce4-b358-4f4dba3dae5d\", \"datos_por_provincia.csv\", 1574)"
            ],
            "text/plain": [
              "<IPython.core.display.Javascript object>"
            ]
          },
          "metadata": {
            "tags": []
          }
        }
      ]
    },
    {
      "cell_type": "markdown",
      "metadata": {
        "id": "QqS2vpZiMTS7"
      },
      "source": [
        "Vacunas aplicadas por marca y nro de dosis"
      ]
    },
    {
      "cell_type": "code",
      "metadata": {
        "colab": {
          "base_uri": "https://localhost:8080/"
        },
        "id": "51G9TRStNTkL",
        "outputId": "f8ec5165-0642-46f3-87b3-590ec31ad2eb"
      },
      "source": [
        "# Importación Dataset Vacunas\n",
        "# \n",
        "start_time = time.time()\n",
        "vacunas = None\n",
        "while vacunas is None:\n",
        "  try:\n",
        "    vacunas = pd.read_csv('https://sisa.msal.gov.ar/datos/descargas/covid-19/files/datos_nomivac_covid19.zip')\n",
        "  except:\n",
        "    pass\n",
        "print(\"--- %s seconds ---\" % (time.time() - start_time))"
      ],
      "execution_count": 110,
      "outputs": [
        {
          "output_type": "stream",
          "text": [
            "--- 718.3379700183868 seconds ---\n"
          ],
          "name": "stdout"
        }
      ]
    },
    {
      "cell_type": "code",
      "metadata": {
        "colab": {
          "base_uri": "https://localhost:8080/",
          "height": 643
        },
        "id": "3YbjzO_CNxJL",
        "outputId": "0b656512-27cc-4b1c-8afe-0af8af310ac9"
      },
      "source": [
        "# Quedarnos con las columnas que vamos a usar y limpiar registros incompletos\n",
        "vacunas_fil = vacunas[['grupo_etario','orden_dosis','vacuna']]\n",
        "vacunas_fil = vacunas[vacunas.grupo_etario != 'S.I.']\n",
        "vacunas_fil.loc[vacunas_fil['grupo_etario'].isin([\"90-99\",\">=100\"]),\"grupo_etario\"] =  \">=90\"\n",
        "vacunas_fil['COUNT'] = 1\n",
        "\n",
        "vacunas_group = vacunas_fil.groupby(['grupo_etario','vacuna','orden_dosis'])['COUNT'].sum().reset_index()\n",
        "vacunas_group"
      ],
      "execution_count": 111,
      "outputs": [
        {
          "output_type": "stream",
          "text": [
            "/usr/local/lib/python3.7/dist-packages/pandas/core/indexing.py:1763: SettingWithCopyWarning: \n",
            "A value is trying to be set on a copy of a slice from a DataFrame.\n",
            "Try using .loc[row_indexer,col_indexer] = value instead\n",
            "\n",
            "See the caveats in the documentation: https://pandas.pydata.org/pandas-docs/stable/user_guide/indexing.html#returning-a-view-versus-a-copy\n",
            "  isetter(loc, value)\n",
            "/usr/local/lib/python3.7/dist-packages/ipykernel_launcher.py:5: SettingWithCopyWarning: \n",
            "A value is trying to be set on a copy of a slice from a DataFrame.\n",
            "Try using .loc[row_indexer,col_indexer] = value instead\n",
            "\n",
            "See the caveats in the documentation: https://pandas.pydata.org/pandas-docs/stable/user_guide/indexing.html#returning-a-view-versus-a-copy\n",
            "  \"\"\"\n"
          ],
          "name": "stderr"
        },
        {
          "output_type": "execute_result",
          "data": {
            "text/html": [
              "<div>\n",
              "<style scoped>\n",
              "    .dataframe tbody tr th:only-of-type {\n",
              "        vertical-align: middle;\n",
              "    }\n",
              "\n",
              "    .dataframe tbody tr th {\n",
              "        vertical-align: top;\n",
              "    }\n",
              "\n",
              "    .dataframe thead th {\n",
              "        text-align: right;\n",
              "    }\n",
              "</style>\n",
              "<table border=\"1\" class=\"dataframe\">\n",
              "  <thead>\n",
              "    <tr style=\"text-align: right;\">\n",
              "      <th></th>\n",
              "      <th>grupo_etario</th>\n",
              "      <th>vacuna</th>\n",
              "      <th>orden_dosis</th>\n",
              "      <th>COUNT</th>\n",
              "    </tr>\n",
              "  </thead>\n",
              "  <tbody>\n",
              "    <tr>\n",
              "      <th>0</th>\n",
              "      <td>18-29</td>\n",
              "      <td>AstraZeneca</td>\n",
              "      <td>1</td>\n",
              "      <td>1392597</td>\n",
              "    </tr>\n",
              "    <tr>\n",
              "      <th>1</th>\n",
              "      <td>18-29</td>\n",
              "      <td>AstraZeneca</td>\n",
              "      <td>2</td>\n",
              "      <td>81320</td>\n",
              "    </tr>\n",
              "    <tr>\n",
              "      <th>2</th>\n",
              "      <td>18-29</td>\n",
              "      <td>COVISHIELD</td>\n",
              "      <td>1</td>\n",
              "      <td>22259</td>\n",
              "    </tr>\n",
              "    <tr>\n",
              "      <th>3</th>\n",
              "      <td>18-29</td>\n",
              "      <td>COVISHIELD</td>\n",
              "      <td>2</td>\n",
              "      <td>369</td>\n",
              "    </tr>\n",
              "    <tr>\n",
              "      <th>4</th>\n",
              "      <td>18-29</td>\n",
              "      <td>Sinopharm</td>\n",
              "      <td>1</td>\n",
              "      <td>2450676</td>\n",
              "    </tr>\n",
              "    <tr>\n",
              "      <th>...</th>\n",
              "      <td>...</td>\n",
              "      <td>...</td>\n",
              "      <td>...</td>\n",
              "      <td>...</td>\n",
              "    </tr>\n",
              "    <tr>\n",
              "      <th>59</th>\n",
              "      <td>&gt;=90</td>\n",
              "      <td>COVISHIELD</td>\n",
              "      <td>2</td>\n",
              "      <td>246</td>\n",
              "    </tr>\n",
              "    <tr>\n",
              "      <th>60</th>\n",
              "      <td>&gt;=90</td>\n",
              "      <td>Sinopharm</td>\n",
              "      <td>1</td>\n",
              "      <td>14699</td>\n",
              "    </tr>\n",
              "    <tr>\n",
              "      <th>61</th>\n",
              "      <td>&gt;=90</td>\n",
              "      <td>Sinopharm</td>\n",
              "      <td>2</td>\n",
              "      <td>12524</td>\n",
              "    </tr>\n",
              "    <tr>\n",
              "      <th>62</th>\n",
              "      <td>&gt;=90</td>\n",
              "      <td>Sputnik</td>\n",
              "      <td>1</td>\n",
              "      <td>98373</td>\n",
              "    </tr>\n",
              "    <tr>\n",
              "      <th>63</th>\n",
              "      <td>&gt;=90</td>\n",
              "      <td>Sputnik</td>\n",
              "      <td>2</td>\n",
              "      <td>79356</td>\n",
              "    </tr>\n",
              "  </tbody>\n",
              "</table>\n",
              "<p>64 rows × 4 columns</p>\n",
              "</div>"
            ],
            "text/plain": [
              "   grupo_etario       vacuna  orden_dosis    COUNT\n",
              "0         18-29  AstraZeneca            1  1392597\n",
              "1         18-29  AstraZeneca            2    81320\n",
              "2         18-29   COVISHIELD            1    22259\n",
              "3         18-29   COVISHIELD            2      369\n",
              "4         18-29    Sinopharm            1  2450676\n",
              "..          ...          ...          ...      ...\n",
              "59         >=90   COVISHIELD            2      246\n",
              "60         >=90    Sinopharm            1    14699\n",
              "61         >=90    Sinopharm            2    12524\n",
              "62         >=90      Sputnik            1    98373\n",
              "63         >=90      Sputnik            2    79356\n",
              "\n",
              "[64 rows x 4 columns]"
            ]
          },
          "metadata": {
            "tags": []
          },
          "execution_count": 111
        }
      ]
    },
    {
      "cell_type": "code",
      "metadata": {
        "colab": {
          "base_uri": "https://localhost:8080/",
          "height": 17
        },
        "id": "WAPVYRv5uH-I",
        "outputId": "a4a07e0a-cb73-41a3-ee2e-81222622f7f6"
      },
      "source": [
        "# Descargar CSV\n",
        "# Exporta datos para vega-lite\n",
        "vacunas_group.to_json('grupo_etario_vacuna_dosis.json', orient='records')\n",
        "files.download(\"grupo_etario_vacuna_dosis.json\")"
      ],
      "execution_count": 112,
      "outputs": [
        {
          "output_type": "display_data",
          "data": {
            "application/javascript": [
              "\n",
              "    async function download(id, filename, size) {\n",
              "      if (!google.colab.kernel.accessAllowed) {\n",
              "        return;\n",
              "      }\n",
              "      const div = document.createElement('div');\n",
              "      const label = document.createElement('label');\n",
              "      label.textContent = `Downloading \"${filename}\": `;\n",
              "      div.appendChild(label);\n",
              "      const progress = document.createElement('progress');\n",
              "      progress.max = size;\n",
              "      div.appendChild(progress);\n",
              "      document.body.appendChild(div);\n",
              "\n",
              "      const buffers = [];\n",
              "      let downloaded = 0;\n",
              "\n",
              "      const channel = await google.colab.kernel.comms.open(id);\n",
              "      // Send a message to notify the kernel that we're ready.\n",
              "      channel.send({})\n",
              "\n",
              "      for await (const message of channel.messages) {\n",
              "        // Send a message to notify the kernel that we're ready.\n",
              "        channel.send({})\n",
              "        if (message.buffers) {\n",
              "          for (const buffer of message.buffers) {\n",
              "            buffers.push(buffer);\n",
              "            downloaded += buffer.byteLength;\n",
              "            progress.value = downloaded;\n",
              "          }\n",
              "        }\n",
              "      }\n",
              "      const blob = new Blob(buffers, {type: 'application/binary'});\n",
              "      const a = document.createElement('a');\n",
              "      a.href = window.URL.createObjectURL(blob);\n",
              "      a.download = filename;\n",
              "      div.appendChild(a);\n",
              "      a.click();\n",
              "      div.remove();\n",
              "    }\n",
              "  "
            ],
            "text/plain": [
              "<IPython.core.display.Javascript object>"
            ]
          },
          "metadata": {
            "tags": []
          }
        },
        {
          "output_type": "display_data",
          "data": {
            "application/javascript": [
              "download(\"download_fe6e6a3b-ea62-4a5c-a483-ae22ee4a72c2\", \"grupo_etario_vacuna_dosis.json\", 4912)"
            ],
            "text/plain": [
              "<IPython.core.display.Javascript object>"
            ]
          },
          "metadata": {
            "tags": []
          }
        }
      ]
    }
  ]
}